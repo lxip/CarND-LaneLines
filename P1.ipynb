{
 "cells": [
  {
   "cell_type": "markdown",
   "metadata": {},
   "source": [
    "# Self-Driving Car Engineer Nanodegree\n",
    "\n",
    "\n",
    "## Project: **Finding Lane Lines on the Road** \n",
    "***\n",
    "In this project, you will use the tools you learned about in the lesson to identify lane lines on the road.  You can develop your pipeline on a series of individual images, and later apply the result to a video stream (really just a series of images). Check out the video clip \"raw-lines-example.mp4\" (also contained in this repository) to see what the output should look like after using the helper functions below. \n",
    "\n",
    "Once you have a result that looks roughly like \"raw-lines-example.mp4\", you'll need to get creative and try to average and/or extrapolate the line segments you've detected to map out the full extent of the lane lines.  You can see an example of the result you're going for in the video \"P1_example.mp4\".  Ultimately, you would like to draw just one line for the left side of the lane, and one for the right.\n",
    "\n",
    "In addition to implementing code, there is a brief writeup to complete. The writeup should be completed in a separate file, which can be either a markdown file or a pdf document. There is a [write up template](https://github.com/udacity/CarND-LaneLines-P1/blob/master/writeup_template.md) that can be used to guide the writing process. Completing both the code in the Ipython notebook and the writeup template will cover all of the [rubric points](https://review.udacity.com/#!/rubrics/322/view) for this project.\n",
    "\n"
   ]
  },
  {
   "cell_type": "markdown",
   "metadata": {},
   "source": [
    "---\n",
    "\n",
    "<figure>\n",
    " <img src=\"examples/line-segments-example.jpg\" width=\"380\" alt=\"Combined Image\" />\n",
    " <figcaption>\n",
    " <p></p> \n",
    " <p style=\"text-align: center;\"> Your output should look something like this (above) after detecting line segments using the helper functions below </p> \n",
    " </figcaption>\n",
    "</figure>\n",
    " <p></p> \n",
    "<figure>\n",
    " <img src=\"examples/laneLines_thirdPass.jpg\" width=\"380\" alt=\"Combined Image\" />\n",
    " <figcaption>\n",
    " <p></p> \n",
    " <p style=\"text-align: center;\"> Your goal is to connect/average/extrapolate line segments to get output like this</p> \n",
    " </figcaption>\n",
    "</figure>\n",
    "\n",
    "---\n",
    "**Some OpenCV functions (beyond those introduced in the lesson) that might be useful for this project are:**\n",
    "\n",
    "`cv2.inRange()` for color selection  \n",
    "`cv2.fillPoly()` for regions selection  \n",
    "`cv2.line()` to draw lines on an image given endpoints  \n",
    "`cv2.addWeighted()` to coadd / overlay two images\n",
    "`cv2.cvtColor()` to grayscale or change color\n",
    "`cv2.imwrite()` to output images to file  \n",
    "`cv2.bitwise_and()` to apply a mask to an image\n",
    "\n",
    "**Check out the OpenCV documentation to learn about these and discover even more awesome functionality!**"
   ]
  },
  {
   "cell_type": "markdown",
   "metadata": {},
   "source": [
    "## Import Packages"
   ]
  },
  {
   "cell_type": "code",
   "execution_count": 1,
   "metadata": {},
   "outputs": [],
   "source": [
    "#importing some useful packages\n",
    "import os\n",
    "import matplotlib.pyplot as plt\n",
    "import matplotlib.image as mpimg\n",
    "import matplotlib.patches as mpatch\n",
    "from scipy.stats import norm\n",
    "import numpy as np\n",
    "import math\n",
    "import cv2\n",
    "\n",
    "from IPython.display import display, HTML\n",
    "from moviepy.editor import VideoFileClip\n",
    "%matplotlib inline"
   ]
  },
  {
   "cell_type": "markdown",
   "metadata": {},
   "source": [
    "## Helper Functions"
   ]
  },
  {
   "cell_type": "markdown",
   "metadata": {},
   "source": [
    "Below are some helper functions to help get you started. They should look familiar from the lesson!"
   ]
  },
  {
   "cell_type": "code",
   "execution_count": 2,
   "metadata": {
    "code_folding": []
   },
   "outputs": [],
   "source": [
    "def grayscale(img):\n",
    "    \"\"\"Applies the Grayscale transform\n",
    "    This will return an image with only one color channel\n",
    "    but NOTE: to see the returned image as grayscale\n",
    "    (assuming your grayscaled image is called 'gray')\n",
    "    you should call plt.imshow(gray, cmap='gray')\"\"\"\n",
    "    return cv2.cvtColor(img, cv2.COLOR_RGB2GRAY)\n",
    "    # Or use BGR2GRAY if you read an image with cv2.imread()\n",
    "    # return cv2.cvtColor(img, cv2.COLOR_BGR2GRAY)\n",
    "    \n",
    "def canny(img, low_threshold, high_threshold):\n",
    "    \"\"\"Applies the Canny transform\"\"\"\n",
    "    return cv2.Canny(img, low_threshold, high_threshold)\n",
    "\n",
    "def gaussian_blur(img, kernel_size):\n",
    "    \"\"\"Applies a Gaussian Noise kernel\"\"\"\n",
    "    return cv2.GaussianBlur(img, (kernel_size, kernel_size), 0)\n",
    "\n",
    "def region_of_interest(img, vertices):\n",
    "    \"\"\"\n",
    "    Applies an image mask.\n",
    "    \n",
    "    Only keeps the region of the image defined by the polygon\n",
    "    formed from `vertices`. The rest of the image is set to black.\n",
    "    \"\"\"\n",
    "    #defining a blank mask to start with\n",
    "    mask = np.zeros_like(img)   \n",
    "    \n",
    "    #defining a 3 channel or 1 channel color to fill the mask with depending on the input image\n",
    "    if len(img.shape) > 2:\n",
    "        channel_count = img.shape[2]  # i.e. 3 or 4 depending on your image\n",
    "        ignore_mask_color = (255,) * channel_count\n",
    "    else:\n",
    "        ignore_mask_color = 255\n",
    "        \n",
    "    #filling pixels inside the polygon defined by \"vertices\" with the fill color    \n",
    "    cv2.fillPoly(mask, [vertices], ignore_mask_color)\n",
    "    \n",
    "    #returning the image only where mask pixels are nonzero\n",
    "    masked_image = cv2.bitwise_and(img, mask)\n",
    "    return masked_image\n",
    "\n",
    "def maskRegion(img, xshift=0, yshift=20):\n",
    "    xsize = img.shape[1]\n",
    "    ysize = img.shape[0]\n",
    "    vertices = np.array([ [0,ysize],[xsize,ysize],\n",
    "                         [xsize/2+xshift,ysize/2+yshift],[xsize/2-xshift,ysize/2+yshift] ], dtype=np.int32)\n",
    "    return vertices\n",
    "\n",
    "def draw_lines(img, lines, color=[255, 0, 0], thickness=2, ydraw_shift=60):\n",
    "    \"\"\"\n",
    "    Average/extrapolate the line segments you detect to map out the full\n",
    "    extent of the lane. Separating line segments by their slope ((y2-y1)/(x2-x1)) \n",
    "    to decide which segments are part of the left line vs. the right line.  \n",
    "    \n",
    "    This function draws `lines` with `color` and `thickness`.    \n",
    "    Lines are drawn on the image inplace (mutates the image).\n",
    "    \"\"\"\n",
    "    x_left = []\n",
    "    y_left = []\n",
    "    x_right = []\n",
    "    y_right = []\n",
    "    for line in lines:\n",
    "        for x1,y1,x2,y2 in line:\n",
    "#             cv2.line(img,(x1,y1),(x2,y2), color, thickness)\n",
    "            slope = ((y2-y1)/(x2-x1))\n",
    "            if -0.3 < slope < 0.3: # filter out extra lines\n",
    "                continue\n",
    "            elif slope < 0:\n",
    "                x_left.extend([x1,x2])\n",
    "                y_left.extend([y1,y2])\n",
    "            else:\n",
    "                x_right.extend([x1,x2])\n",
    "                y_right.extend([y1,y2])\n",
    "    left_line = average_lines(img, x_left, y_left, ydraw_shift)\n",
    "    right_line = average_lines(img, x_right, y_right, ydraw_shift)\n",
    "    cv2.line(img, left_line[0], left_line[1], color, thickness)\n",
    "    cv2.line(img, right_line[0], right_line[1], color, thickness)\n",
    "            \n",
    "def average_lines(img, x, y, ydraw_shift):\n",
    "    \"\"\"From lists of points x,y return the start and end point from averaged line.\"\"\"\n",
    "    ymax = img.shape[0]\n",
    "    ymin = int(img.shape[0]/2 + ydraw_shift) \n",
    "    \n",
    "    slope, intersect = np.polyfit(x,y,1)\n",
    "    xmax = int((ymax-intersect)/slope)\n",
    "    xmin = int((ymin-intersect)/slope)\n",
    "    return [(xmin,ymin),(xmax,ymax)]\n",
    "\n",
    "def hough_lines(img, rho, theta, threshold, min_line_len, max_line_gap, color=[255, 0, 0], thickness=2):\n",
    "    \"\"\"\n",
    "    `img` should be the output of a Canny transform.\n",
    "        \n",
    "    Returns an image with hough lines drawn.\n",
    "    \"\"\"\n",
    "    lines = cv2.HoughLinesP(img, rho, theta, threshold, np.array([]), minLineLength=min_line_len, maxLineGap=max_line_gap)\n",
    "    line_img = np.zeros((img.shape[0], img.shape[1], 3), dtype=np.uint8)\n",
    "    draw_lines(line_img, lines, color, thickness)\n",
    "    return line_img\n",
    "\n",
    "# Python 3 has support for cool math symbols.\n",
    "\n",
    "def weighted_img(initial_img, img, α=0.8, β=1., λ=0.):\n",
    "    \"\"\"\n",
    "    `img` is the output of the hough_lines(), An image with lines drawn on it.\n",
    "    Should be a blank image (all black) with lines drawn on it.\n",
    "    \n",
    "    `initial_img` should be the image before any processing.\n",
    "    \n",
    "    The result image is computed as follows:\n",
    "    \n",
    "    initial_img * α + img * β + λ\n",
    "    NOTE: initial_img and img must be the same shape!\n",
    "    \"\"\"\n",
    "    return cv2.addWeighted(initial_img, α, img, β, λ)\n",
    "\n",
    "\n",
    "def drawMaskRegion(img, pts, close=True, color=(255,0,0), thickness=3):\n",
    "    img = np.dstack((img,img,img))\n",
    "    cv2.polylines(img, [pts], close, color, thickness)\n",
    "    return img\n",
    "\n",
    "\n",
    "def displayImgs(imgnames, imgdir):\n",
    "    \"\"\"Display a list of images as HTML embeded form\"\"\"\n",
    "    html = \"<div>\"\n",
    "    for img in imgnames:\n",
    "        source = imgdir + img\n",
    "        html += \"\"\"<img src=\"{0}\" width=\"300\" height=\"120\" style=\"float:left; margin:2px\"/>\"\"\".format(source)\n",
    "    html += \"</div>\"\n",
    "    display(HTML(html))\n",
    "    \n",
    "def saveImgs(imgnames, savedir, images, isGray=0):\n",
    "    \"\"\"Save output images to the defined directory.\"\"\"\n",
    "    if not os.path.exists(savedir):\n",
    "        os.makedirs(savedir)\n",
    "    for i, img in enumerate(imgnames):\n",
    "        imgp = savedir + img\n",
    "        if isGray:\n",
    "            plt.imsave(imgp, images[i], cmap='Greys_r')\n",
    "        else:\n",
    "            plt.imsave(imgp, images[i])\n",
    "            \n",
    "def groupAction(action, targets):\n",
    "    \"\"\"Apply the same function/action on a list of targets.\"\"\"\n",
    "    return list(map(action, targets))\n",
    "\n",
    "def renameImgs(imgnames, addstr):\n",
    "    \"\"\"Modify a list of image names.\"\"\"\n",
    "    return list(map(lambda x: addstr+x, imgnames))"
   ]
  },
  {
   "cell_type": "markdown",
   "metadata": {},
   "source": [
    "## Build a Lane Finding Pipeline\n",
    "\n",
    "Build the pipeline and run solution on all test_images. Make copies into the `test_images_output` directory.\n",
    "\n",
    "### Load test images\n"
   ]
  },
  {
   "cell_type": "code",
   "execution_count": 4,
   "metadata": {},
   "outputs": [
    {
     "data": {
      "text/html": [
       "<div><img src=\"test_images/solidYellowCurve.jpg\" width=\"300\" height=\"120\" style=\"float:left; margin:2px\"/><img src=\"test_images/solidYellowLeft.jpg\" width=\"300\" height=\"120\" style=\"float:left; margin:2px\"/><img src=\"test_images/solidYellowCurve2.jpg\" width=\"300\" height=\"120\" style=\"float:left; margin:2px\"/><img src=\"test_images/solidWhiteRight.jpg\" width=\"300\" height=\"120\" style=\"float:left; margin:2px\"/><img src=\"test_images/whiteCarLaneSwitch.jpg\" width=\"300\" height=\"120\" style=\"float:left; margin:2px\"/><img src=\"test_images/solidWhiteCurve.jpg\" width=\"300\" height=\"120\" style=\"float:left; margin:2px\"/></div>"
      ],
      "text/plain": [
       "<IPython.core.display.HTML object>"
      ]
     },
     "metadata": {},
     "output_type": "display_data"
    }
   ],
   "source": [
    "# load images from given directory \"test_images/\"\n",
    "imgdir = \"test_images/\"\n",
    "imgnames = os.listdir(imgdir)\n",
    "\n",
    "loadAct = lambda img: mpimg.imread(imgdir + img) # cv2.imread() read to BGR instead of RGB\n",
    "testImgs = groupAction(loadAct, imgnames)\n",
    "\n",
    "displayImgs(imgnames, imgdir)"
   ]
  },
  {
   "cell_type": "markdown",
   "metadata": {},
   "source": [
    "### Converting images to gray scale"
   ]
  },
  {
   "cell_type": "code",
   "execution_count": 5,
   "metadata": {},
   "outputs": [
    {
     "data": {
      "text/html": [
       "<div><img src=\"test_images_output/gray_solidYellowCurve.jpg\" width=\"300\" height=\"120\" style=\"float:left; margin:2px\"/><img src=\"test_images_output/gray_solidYellowLeft.jpg\" width=\"300\" height=\"120\" style=\"float:left; margin:2px\"/><img src=\"test_images_output/gray_solidYellowCurve2.jpg\" width=\"300\" height=\"120\" style=\"float:left; margin:2px\"/><img src=\"test_images_output/gray_solidWhiteRight.jpg\" width=\"300\" height=\"120\" style=\"float:left; margin:2px\"/><img src=\"test_images_output/gray_whiteCarLaneSwitch.jpg\" width=\"300\" height=\"120\" style=\"float:left; margin:2px\"/><img src=\"test_images_output/gray_solidWhiteCurve.jpg\" width=\"300\" height=\"120\" style=\"float:left; margin:2px\"/></div>"
      ],
      "text/plain": [
       "<IPython.core.display.HTML object>"
      ]
     },
     "metadata": {},
     "output_type": "display_data"
    }
   ],
   "source": [
    "grayImgs = groupAction(grayscale, testImgs)\n",
    "\n",
    "savedir = \"test_images_output/\"\n",
    "grayImgnames = renameImgs(imgnames, \"gray_\")\n",
    "saveImgs(grayImgnames, savedir, grayImgs, isGray=1)\n",
    "\n",
    "displayImgs(grayImgnames, savedir)"
   ]
  },
  {
   "cell_type": "markdown",
   "metadata": {},
   "source": [
    "### Gaussian smoothing on gray scale images"
   ]
  },
  {
   "cell_type": "code",
   "execution_count": 6,
   "metadata": {},
   "outputs": [
    {
     "data": {
      "text/html": [
       "<div><img src=\"test_images_output/smooth_solidYellowCurve.jpg\" width=\"300\" height=\"120\" style=\"float:left; margin:2px\"/><img src=\"test_images_output/smooth_solidYellowLeft.jpg\" width=\"300\" height=\"120\" style=\"float:left; margin:2px\"/><img src=\"test_images_output/smooth_solidYellowCurve2.jpg\" width=\"300\" height=\"120\" style=\"float:left; margin:2px\"/><img src=\"test_images_output/smooth_solidWhiteRight.jpg\" width=\"300\" height=\"120\" style=\"float:left; margin:2px\"/><img src=\"test_images_output/smooth_whiteCarLaneSwitch.jpg\" width=\"300\" height=\"120\" style=\"float:left; margin:2px\"/><img src=\"test_images_output/smooth_solidWhiteCurve.jpg\" width=\"300\" height=\"120\" style=\"float:left; margin:2px\"/></div>"
      ],
      "text/plain": [
       "<IPython.core.display.HTML object>"
      ]
     },
     "metadata": {},
     "output_type": "display_data"
    }
   ],
   "source": [
    "kernal_size = 7\n",
    "smoothAct = lambda img: gaussian_blur(img, kernal_size)\n",
    "smoothImgs = groupAction(smoothAct, grayImgs)\n",
    "\n",
    "smoothImgnames = renameImgs(imgnames, \"smooth_\")\n",
    "saveImgs(smoothImgnames, savedir, smoothImgs, isGray=1)\n",
    "\n",
    "displayImgs(smoothImgnames, savedir)"
   ]
  },
  {
   "cell_type": "markdown",
   "metadata": {},
   "source": [
    "### Canny edge detection"
   ]
  },
  {
   "cell_type": "code",
   "execution_count": 7,
   "metadata": {},
   "outputs": [
    {
     "data": {
      "text/html": [
       "<div><img src=\"test_images_output/canny_solidYellowCurve.jpg\" width=\"300\" height=\"120\" style=\"float:left; margin:2px\"/><img src=\"test_images_output/canny_solidYellowLeft.jpg\" width=\"300\" height=\"120\" style=\"float:left; margin:2px\"/><img src=\"test_images_output/canny_solidYellowCurve2.jpg\" width=\"300\" height=\"120\" style=\"float:left; margin:2px\"/><img src=\"test_images_output/canny_solidWhiteRight.jpg\" width=\"300\" height=\"120\" style=\"float:left; margin:2px\"/><img src=\"test_images_output/canny_whiteCarLaneSwitch.jpg\" width=\"300\" height=\"120\" style=\"float:left; margin:2px\"/><img src=\"test_images_output/canny_solidWhiteCurve.jpg\" width=\"300\" height=\"120\" style=\"float:left; margin:2px\"/></div>"
      ],
      "text/plain": [
       "<IPython.core.display.HTML object>"
      ]
     },
     "metadata": {},
     "output_type": "display_data"
    }
   ],
   "source": [
    "low_threshold = 80\n",
    "high_threshold = 180 \n",
    "cannyAct = lambda img: cv2.Canny(img, low_threshold, high_threshold)\n",
    "cannyImgs = groupAction(cannyAct, smoothImgs)\n",
    "\n",
    "cannyImgnames = renameImgs(imgnames, \"canny_\")\n",
    "saveImgs(cannyImgnames, savedir, cannyImgs)\n",
    "\n",
    "displayImgs(cannyImgnames, savedir)"
   ]
  },
  {
   "cell_type": "markdown",
   "metadata": {},
   "source": [
    "### Masking region of interest"
   ]
  },
  {
   "cell_type": "code",
   "execution_count": 8,
   "metadata": {},
   "outputs": [
    {
     "data": {
      "text/html": [
       "<div><img src=\"test_images_output/mask_solidYellowCurve.jpg\" width=\"300\" height=\"120\" style=\"float:left; margin:2px\"/><img src=\"test_images_output/mask_solidYellowLeft.jpg\" width=\"300\" height=\"120\" style=\"float:left; margin:2px\"/><img src=\"test_images_output/mask_solidYellowCurve2.jpg\" width=\"300\" height=\"120\" style=\"float:left; margin:2px\"/><img src=\"test_images_output/mask_solidWhiteRight.jpg\" width=\"300\" height=\"120\" style=\"float:left; margin:2px\"/><img src=\"test_images_output/mask_whiteCarLaneSwitch.jpg\" width=\"300\" height=\"120\" style=\"float:left; margin:2px\"/><img src=\"test_images_output/mask_solidWhiteCurve.jpg\" width=\"300\" height=\"120\" style=\"float:left; margin:2px\"/></div>"
      ],
      "text/plain": [
       "<IPython.core.display.HTML object>"
      ]
     },
     "metadata": {},
     "output_type": "display_data"
    }
   ],
   "source": [
    "xshift = 30\n",
    "yshift = 60\n",
    "maskAct = lambda img: region_of_interest(img, maskRegion(img, xshift, yshift))\n",
    "maskedImgs = groupAction(maskAct, cannyImgs)\n",
    "\n",
    "# add the mask boundary for display to easier tune the parameters\n",
    "mask2showAct = lambda img: drawMaskRegion(img, maskRegion(img, xshift, yshift))\n",
    "maskedImgs2show = groupAction(mask2showAct, maskedImgs)\n",
    "\n",
    "maskedImgnames = renameImgs(imgnames, \"mask_\")\n",
    "saveImgs(maskedImgnames, savedir, maskedImgs2show)\n",
    "\n",
    "displayImgs(maskedImgnames, savedir)"
   ]
  },
  {
   "cell_type": "markdown",
   "metadata": {},
   "source": [
    "### Hough transform and line extrapolate"
   ]
  },
  {
   "cell_type": "code",
   "execution_count": 9,
   "metadata": {},
   "outputs": [
    {
     "data": {
      "text/html": [
       "<div><img src=\"test_images_output/hough_solidYellowCurve.jpg\" width=\"300\" height=\"120\" style=\"float:left; margin:2px\"/><img src=\"test_images_output/hough_solidYellowLeft.jpg\" width=\"300\" height=\"120\" style=\"float:left; margin:2px\"/><img src=\"test_images_output/hough_solidYellowCurve2.jpg\" width=\"300\" height=\"120\" style=\"float:left; margin:2px\"/><img src=\"test_images_output/hough_solidWhiteRight.jpg\" width=\"300\" height=\"120\" style=\"float:left; margin:2px\"/><img src=\"test_images_output/hough_whiteCarLaneSwitch.jpg\" width=\"300\" height=\"120\" style=\"float:left; margin:2px\"/><img src=\"test_images_output/hough_solidWhiteCurve.jpg\" width=\"300\" height=\"120\" style=\"float:left; margin:2px\"/></div>"
      ],
      "text/plain": [
       "<IPython.core.display.HTML object>"
      ]
     },
     "metadata": {},
     "output_type": "display_data"
    }
   ],
   "source": [
    "rho          = 1 # pixels of Hough grid\n",
    "theta        = np.pi/180 # angle of Hough grid\n",
    "threshold    = 20 # min votes for a line within a grid\n",
    "min_line_len = 30 # min number of pixels for a line\n",
    "max_line_gap = 15 # max gap in pixels for joinable line segments\n",
    "\n",
    "color = (255,0,0)\n",
    "thickness = 15\n",
    "\n",
    "houghAct = lambda img: hough_lines(img, rho, theta, threshold, min_line_len, max_line_gap, color, thickness)\n",
    "houghImgs = groupAction(houghAct, maskedImgs)\n",
    "\n",
    "houghImgnames = renameImgs(imgnames, \"hough_\")\n",
    "saveImgs(houghImgnames, savedir, houghImgs)\n",
    "\n",
    "displayImgs(houghImgnames, savedir)"
   ]
  },
  {
   "cell_type": "markdown",
   "metadata": {},
   "source": [
    "### Display weighted image"
   ]
  },
  {
   "cell_type": "code",
   "execution_count": 10,
   "metadata": {},
   "outputs": [
    {
     "data": {
      "text/html": [
       "<div><img src=\"test_images_output/disp_solidYellowCurve.jpg\" width=\"300\" height=\"120\" style=\"float:left; margin:2px\"/><img src=\"test_images_output/disp_solidYellowLeft.jpg\" width=\"300\" height=\"120\" style=\"float:left; margin:2px\"/><img src=\"test_images_output/disp_solidYellowCurve2.jpg\" width=\"300\" height=\"120\" style=\"float:left; margin:2px\"/><img src=\"test_images_output/disp_solidWhiteRight.jpg\" width=\"300\" height=\"120\" style=\"float:left; margin:2px\"/><img src=\"test_images_output/disp_whiteCarLaneSwitch.jpg\" width=\"300\" height=\"120\" style=\"float:left; margin:2px\"/><img src=\"test_images_output/disp_solidWhiteCurve.jpg\" width=\"300\" height=\"120\" style=\"float:left; margin:2px\"/></div>"
      ],
      "text/plain": [
       "<IPython.core.display.HTML object>"
      ]
     },
     "metadata": {},
     "output_type": "display_data"
    }
   ],
   "source": [
    "α = 1.0\n",
    "β = 0.8\n",
    "dispAct = lambda img: weighted_img(img[0], img[1], α, β)\n",
    "feed = zip(houghImgs, testImgs)\n",
    "dispImgs = groupAction(dispAct, feed)\n",
    "\n",
    "dispImgnames = renameImgs(imgnames, \"disp_\")\n",
    "saveImgs(dispImgnames, savedir, dispImgs)\n",
    "\n",
    "displayImgs(dispImgnames, savedir)"
   ]
  },
  {
   "cell_type": "markdown",
   "metadata": {},
   "source": [
    "### Darw lane lines pipeline function"
   ]
  },
  {
   "cell_type": "code",
   "execution_count": 52,
   "metadata": {},
   "outputs": [],
   "source": [
    "# The pipeline that will draw lane lines on the test_images\n",
    "def draw_laneLines_pipe(imgpath, **kwargs):\n",
    "    img = mpimg.imread(imgpath)\n",
    "    grayimg = grayscale(img)\n",
    "    blurimg = gaussian_blur(grayimg, kwargs['kernal'])\n",
    "    edgeimg = cv2.Canny(img, kwargs['low_threshold'], kwargs['high_threshold'])\n",
    "    region = maskRegion(edgeimg, kwargs['xshift'], kwargs['yshift'])\n",
    "    maskimg = region_of_interest(edgeimg, region)\n",
    "    lineimg = hough_lines(maskimg, kwargs['rho'],kwargs['theta'],kwargs['threshold'],\n",
    "                          kwargs['min_line_len'],kwargs['max_line_gap'],kwargs['line_color'],kwargs['line_width'])\n",
    "    dispimg =  weighted_img(img, lineimg, kwargs['baseimg_alpha'], kwargs['lineimg_alpha'])\n",
    "    return dispimg\n",
    "\n",
    "# params = {\n",
    "# 'kernal': 7,\n",
    "# 'low_threshold': 60,\n",
    "# 'high_threshold': 150,\n",
    "# 'xshift': 10,\n",
    "# 'yshift': 30,\n",
    "# 'rho': 1, \n",
    "# 'theta': np.pi/180,\n",
    "# 'threshold': 10,\n",
    "# 'min_line_len': 30,\n",
    "# 'max_line_gap': 15,\n",
    "# 'line_color': (255,0,0),\n",
    "# 'line_width': 15,\n",
    "# 'baseimg_alpha': 1.0,\n",
    "# 'lineimg_alpha': 0.6,\n",
    "# }\n",
    "\n",
    "# imgdir = \"./test_images/\"\n",
    "# for ip in list(map(lambda p: imgdir+p, os.listdir(imgdir))):\n",
    "#     out = draw_laneLines_pipe(ip, **params)"
   ]
  },
  {
   "cell_type": "markdown",
   "metadata": {},
   "source": [
    "## Test on Videos\n",
    "\n",
    "You know what's cooler than drawing lanes over images? Drawing lanes over video!\n",
    "\n",
    "We can test our solution on two provided videos:\n",
    "\n",
    "`solidWhiteRight.mp4`\n",
    "\n",
    "`solidYellowLeft.mp4`\n",
    "\n",
    "### Test on `solidWhiteRight.mp4`\n",
    "\n",
    "Let's try the one with the solid white lane on the right first ..."
   ]
  },
  {
   "cell_type": "code",
   "execution_count": 11,
   "metadata": {},
   "outputs": [],
   "source": [
    "def process_image(image):\n",
    "    # Return the final output as colored image where lines are drawn on lanes.\n",
    "    kwargs = {\n",
    "    'kernal': 7,\n",
    "    'low_threshold': 60,\n",
    "    'high_threshold': 150,\n",
    "    'xshift': 10,\n",
    "    'yshift': 30,\n",
    "    'rho': 1, \n",
    "    'theta': np.pi/180,\n",
    "    'threshold': 10,\n",
    "    'min_line_len': 30,\n",
    "    'max_line_gap': 15,\n",
    "    'line_color': (255,0,0),\n",
    "    'line_width': 15,\n",
    "    'baseimg_alpha': 1.0,\n",
    "    'lineimg_alpha': 0.6,\n",
    "    }\n",
    "    grayimg = grayscale(image)\n",
    "    blurimg = gaussian_blur(grayimg, kwargs['kernal'])\n",
    "    edgeimg = cv2.Canny(image, kwargs['low_threshold'], kwargs['high_threshold'])\n",
    "    region = maskRegion(edgeimg, kwargs['xshift'], kwargs['yshift'])\n",
    "    maskimg = region_of_interest(edgeimg, region)\n",
    "    lineimg = hough_lines(maskimg, kwargs['rho'],kwargs['theta'],kwargs['threshold'],\n",
    "                          kwargs['min_line_len'],kwargs['max_line_gap'],kwargs['line_color'],kwargs['line_width'])\n",
    "    result =  weighted_img(image, lineimg, kwargs['baseimg_alpha'], kwargs['lineimg_alpha'])\n",
    "    return result\n"
   ]
  },
  {
   "cell_type": "code",
   "execution_count": 13,
   "metadata": {},
   "outputs": [
    {
     "name": "stdout",
     "output_type": "stream",
     "text": [
      "[MoviePy] >>>> Building video test_videos_output/solidWhiteRight.mp4\n",
      "[MoviePy] Writing video test_videos_output/solidWhiteRight.mp4\n"
     ]
    },
    {
     "name": "stderr",
     "output_type": "stream",
     "text": [
      "100%|█████████▉| 221/222 [00:04<00:00, 49.39it/s]\n"
     ]
    },
    {
     "name": "stdout",
     "output_type": "stream",
     "text": [
      "[MoviePy] Done.\n",
      "[MoviePy] >>>> Video ready: test_videos_output/solidWhiteRight.mp4 \n",
      "\n",
      "CPU times: user 2.91 s, sys: 600 ms, total: 3.51 s\n",
      "Wall time: 4.98 s\n"
     ]
    }
   ],
   "source": [
    "white_output = 'test_videos_output/solidWhiteRight.mp4'\n",
    "# clip1 = VideoFileClip(\"test_videos/solidWhiteRight.mp4\").subclip(0,5) #pipeline on a shorter subclip, .subclip(start_second,end_second)\n",
    "clip1 = VideoFileClip(\"test_videos/solidWhiteRight.mp4\")\n",
    "white_clip = clip1.fl_image(process_image) #NOTE: this function expects color images!!\n",
    "# white_clip = clip1.fx(transform_clip, **params) # Tried to passing extra parameters in the function\n",
    "%time white_clip.write_videofile(white_output, audio=False)"
   ]
  },
  {
   "cell_type": "markdown",
   "metadata": {},
   "source": [
    "Play the video inline, or if you prefer find the video in your filesystem (should be in the same directory) and play it in your video player of choice."
   ]
  },
  {
   "cell_type": "code",
   "execution_count": 14,
   "metadata": {},
   "outputs": [
    {
     "data": {
      "text/html": [
       "\n",
       "<video width=\"960\" height=\"540\" controls>  <source src=\"test_videos_output/solidWhiteRight.mp4\">  </video>\n"
      ],
      "text/plain": [
       "<IPython.core.display.HTML object>"
      ]
     },
     "execution_count": 14,
     "metadata": {},
     "output_type": "execute_result"
    }
   ],
   "source": [
    "HTML(\"\"\"\n",
    "<video width=\"960\" height=\"540\" controls>  <source src=\"{0}\">  </video>\n",
    "\"\"\".format(white_output))"
   ]
  },
  {
   "cell_type": "markdown",
   "metadata": {},
   "source": [
    "###  Test on `solidYellowLeft.mp4`\n",
    "\n",
    "Now for the one with the solid yellow lane on the left. This one's more tricky!"
   ]
  },
  {
   "cell_type": "code",
   "execution_count": 24,
   "metadata": {},
   "outputs": [
    {
     "name": "stdout",
     "output_type": "stream",
     "text": [
      "[MoviePy] >>>> Building video test_videos_output/solidYellowLeft.mp4\n",
      "[MoviePy] Writing video test_videos_output/solidYellowLeft.mp4\n"
     ]
    },
    {
     "name": "stderr",
     "output_type": "stream",
     "text": [
      "100%|█████████▉| 681/682 [00:14<00:00, 47.01it/s]\n"
     ]
    },
    {
     "name": "stdout",
     "output_type": "stream",
     "text": [
      "[MoviePy] Done.\n",
      "[MoviePy] >>>> Video ready: test_videos_output/solidYellowLeft.mp4 \n",
      "\n",
      "CPU times: user 9.4 s, sys: 1.82 s, total: 11.2 s\n",
      "Wall time: 15 s\n"
     ]
    }
   ],
   "source": [
    "yellow_output = 'test_videos_output/solidYellowLeft.mp4'\n",
    "##clip2 = VideoFileClip('test_videos/solidYellowLeft.mp4').subclip(0,5)\n",
    "clip2 = VideoFileClip('test_videos/solidYellowLeft.mp4')\n",
    "yellow_clip = clip2.fl_image(process_image)\n",
    "%time yellow_clip.write_videofile(yellow_output, audio=False)"
   ]
  },
  {
   "cell_type": "code",
   "execution_count": 26,
   "metadata": {},
   "outputs": [
    {
     "data": {
      "text/html": [
       "\n",
       "<video width=\"960\" height=\"540\" controls>\n",
       "  <source src=\"test_videos_output/solidYellowLeft.mp4\">\n",
       "</video>\n"
      ],
      "text/plain": [
       "<IPython.core.display.HTML object>"
      ]
     },
     "execution_count": 26,
     "metadata": {},
     "output_type": "execute_result"
    }
   ],
   "source": [
    "HTML(\"\"\"\n",
    "<video width=\"960\" height=\"540\" controls>  <source src=\"{0}\"> </video>\n",
    "\"\"\".format(yellow_output))"
   ]
  },
  {
   "cell_type": "markdown",
   "metadata": {},
   "source": [
    "### Test summary\n",
    "The pipeline works good for the first video `solidWhiteRight.mp4`, however for `solidYellowLeft.mp4`, there are twice the right lane line is off the right position. The possible causes of this are:\n",
    "\n",
    "1. incontinuous of the lane line\n",
    "2. disturbing patterns on the ground\n",
    "3. less clear edges for the lane lines\n",
    "\n",
    "Similar problems occurred to the `challenge.mp4` video below. The are a few possible ways to improve the pipeline:\n",
    "\n",
    "1. improve the contrast of the picture for edge detection\n",
    "2. a better region of interest selection for different video scales\n",
    "3. new algorithms for extrapolate lane lines"
   ]
  },
  {
   "cell_type": "markdown",
   "metadata": {
    "collapsed": true
   },
   "source": [
    "## Optional Challenge\n",
    "\n",
    "Try your lane finding pipeline on the video below. With modified pipeline from above.\n",
    "\n",
    "### Modifying some functions\n",
    "\n",
    "Some exploration of making it better, BUT... all did not work..."
   ]
  },
  {
   "cell_type": "code",
   "execution_count": 9,
   "metadata": {},
   "outputs": [],
   "source": [
    "# change 1: limit a smaller range of region of interest\n",
    "def maskRegion(img, xshift=(0,0), yshift=(0,1/8)):\n",
    "    xsize = img.shape[1]\n",
    "    ysize = img.shape[0]\n",
    "    xshift1 = int(xshift[0]*xsize)\n",
    "    xshift2 = int(xshift[1]*xsize)\n",
    "    yshift1 = int(yshift[0]*ysize)\n",
    "    yshift2 = int(yshift[1]*ysize)\n",
    "    vertices = np.array([ [0+xshift1,       ysize-yshift1],\n",
    "                          [xsize-xshift1,   ysize-yshift1],\n",
    "                          [xsize/2+xshift2, ysize/2+yshift2],\n",
    "                          [xsize/2-xshift2, ysize/2+yshift2] ], dtype=np.int32)\n",
    "    return vertices\n",
    "\n",
    "def draw_lines(img, lines, line_hist, color=[255, 0, 0], width=2, ydraw_shift=50):\n",
    "    \"\"\"\n",
    "    Average/extrapolate the line segments you detect to map out the full\n",
    "    extent of the lane. Separating line segments by their slope ((y2-y1)/(x2-x1)) \n",
    "    to decide which segments are part of the left line vs. the right line.  \n",
    "    \n",
    "    This function draws `lines` with `color` and `thickness`.    \n",
    "    Lines are drawn on the image inplace (mutates the image).\n",
    "    \"\"\"\n",
    "    x_left = []\n",
    "    y_left = []\n",
    "    x_right = []\n",
    "    y_right = []\n",
    "    for line in lines:\n",
    "        for x1,y1,x2,y2 in line:\n",
    "#             cv2.line(img,(x1,y1),(x2,y2), color, width)\n",
    "            slope = ((y2-y1)/(x2-x1))\n",
    "            if -0.3 < slope < 0.3: # filter out extra lines\n",
    "                continue\n",
    "            elif slope < 0:\n",
    "                x_left.extend([x1,x2])\n",
    "                y_left.extend([y1,y2])\n",
    "            else:\n",
    "                x_right.extend([x1,x2])\n",
    "                y_right.extend([y1,y2])\n",
    "                \n",
    "    left_line   = average_lines(img, x_left, y_left, ydraw_shift)\n",
    "    right_line  = average_lines(img, x_right, y_right, ydraw_shift)\n",
    "    \n",
    "#     if left_line[0][0]==0:\n",
    "#         left_line = line_hists['left']\n",
    "#     elif right_line[0][0]==0:\n",
    "#         right_line = line_hists['right']\n",
    "    \n",
    "    cv2.line(img, left_line[0], left_line[1], color, width)\n",
    "    cv2.line(img, right_line[0], right_line[1], color, width)\n",
    "    \n",
    "#     line_hists['left'] = left_line\n",
    "#     line_hists['right'] = right_line\n",
    "            \n",
    "\n",
    "def average_lines(img, x, y, ydraw_shift):\n",
    "# def average_lines(img, x, y, line_hist, ydraw_shift):\n",
    "    \"\"\"From lists of points x,y return the start and end point from averaged line.\"\"\"\n",
    "\n",
    "#     if len(line_hist) < 5:\n",
    "#         line_hist.append( (slope, intersect) )\n",
    "#     else:\n",
    "#         last_slope = line_hist[-1][0]\n",
    "#         last_intersect = line_hist[-1][1]\n",
    "#         old_slopes, old_intersects = zip(*line_hist)\n",
    "#         slope_diff = avg_diff(old_slopes)\n",
    "#         intersect_diff = avg_diff(old_intersects)\n",
    "#         last_slope_diff = diff_rate(line_hist[-2][0], last_slope)\n",
    "#         last_intersect_diff = diff_rate(line_hist[-2][1], last_intersect)\n",
    "        \n",
    "#         if abs(diff_rate(last_slope, slope)) > 2*slope_diff:\n",
    "#             slope = apply_avg_diff(last_slope_diff, last_slope)\n",
    "#             intersect = apply_avg_diff(last_intersect_diff, last_intersect)\n",
    "        \n",
    "#         line_hist.pop(0)\n",
    "#         line_hist.append( (slope,intersect) )\n",
    "\n",
    "    ymax = img.shape[0]\n",
    "    ymin = int(img.shape[0]/2 + ydraw_shift) \n",
    "#     try:\n",
    "    slope, intersect = np.polyfit(x,y,1)\n",
    "    xmax = int((ymax-intersect)/slope)\n",
    "    xmin = int((ymin-intersect)/slope)\n",
    "#     except:\n",
    "#         xmin = 0\n",
    "#         xmax = 0\n",
    "    return [(xmin,ymin),(xmax,ymax)]\n",
    "\n",
    "# def diff_rate(before, after):\n",
    "#     \"\"\"calculating the ratio of change.\"\"\"\n",
    "#     return (after - before)/before\n",
    "\n",
    "# def avg_diff(listnum):\n",
    "#     \"\"\"calculating the average difference of a list.\"\"\"\n",
    "#     diffs = list(map(lambda x,y: diff_rate(x,y), listnum[:-1], listnum[1:]))\n",
    "#     return np.average(diffs)\n",
    "\n",
    "# def apply_avg_diff(diff, num):\n",
    "#     \"\"\"calculate the next number based on changing rate\"\"\"\n",
    "#     return num*(1 + diff)\n",
    "\n",
    "\n",
    "def hough_lines(img, **kwargs):\n",
    "    \"\"\"\n",
    "    `img` should be the output of a Canny transform.\n",
    "        \n",
    "    Returns an image with hough lines drawn.\n",
    "    \"\"\"\n",
    "    lines = cv2.HoughLinesP(img, kwargs['rho'], kwargs['theta'],kwargs['threshold'], np.array([]), \n",
    "                            minLineLength=kwargs['min_line_len'], maxLineGap=kwargs['max_line_gap'])\n",
    "    line_img = np.zeros((img.shape[0], img.shape[1], 3), dtype=np.uint8)\n",
    "    draw_lines(line_img, lines, kwargs['line_color'], kwargs['line_width'], kwargs['ydraw_shift'])\n",
    "    return line_img\n",
    "\n",
    "def new_process_image(image):\n",
    "    # Return the final output as colored image where lines are drawn on lanes.\n",
    "    kwargs = {\n",
    "    'kernal': 11,\n",
    "    'low_threshold': 80,\n",
    "    'high_threshold': 150,\n",
    "    'xshift': (1/30, 1/80),\n",
    "    'yshift': (0, 1/10),\n",
    "    'hough':{\n",
    "        'rho': 1, \n",
    "        'theta': np.pi/180,\n",
    "        'threshold': 15,\n",
    "        'min_line_len': 15,\n",
    "        'max_line_gap': 15,\n",
    "        'line_color': (255,0,0),\n",
    "        'line_width': 12,\n",
    "        'ydraw_shift': 90,\n",
    "        },\n",
    "    'baseimg_alpha': 1.0,\n",
    "    'lineimg_alpha': 0.6,\n",
    "    }\n",
    "    grayimg = grayscale(image)\n",
    "    blurimg = gaussian_blur(grayimg, kwargs['kernal'])\n",
    "    edgeimg = cv2.Canny(image, kwargs['low_threshold'], kwargs['high_threshold'])\n",
    "    region = maskRegion(edgeimg, kwargs['xshift'], kwargs['yshift'])\n",
    "    maskimg = region_of_interest(edgeimg, region)\n",
    "    lineimg = hough_lines(maskimg, **kwargs['hough'])\n",
    "    result =  weighted_img(image, lineimg, kwargs['baseimg_alpha'], kwargs['lineimg_alpha'])\n",
    "    return result\n",
    "\n",
    "\n",
    "# def transform_clip(clip, arg):\n",
    "#     def new_process(image):\n",
    "#         return new_process_image(image, arg)\n",
    "#     return clip.fl_image(new_process)"
   ]
  },
  {
   "cell_type": "markdown",
   "metadata": {},
   "source": [
    "### Test on `challenge.mp4`"
   ]
  },
  {
   "cell_type": "code",
   "execution_count": 16,
   "metadata": {},
   "outputs": [
    {
     "name": "stdout",
     "output_type": "stream",
     "text": [
      "[MoviePy] >>>> Building video test_videos_output/challenge2.mp4\n",
      "[MoviePy] Writing video test_videos_output/challenge2.mp4\n"
     ]
    },
    {
     "name": "stderr",
     "output_type": "stream",
     "text": [
      " 29%|██▉       | 74/251 [00:02<00:07, 24.89it/s]WARNING:py.warnings:/usr/local/lib/python3.5/dist-packages/ipykernel_launcher.py:66: RuntimeWarning: divide by zero encountered in int_scalars\n",
      "\n",
      "100%|██████████| 251/251 [00:10<00:00, 26.59it/s]\n"
     ]
    },
    {
     "name": "stdout",
     "output_type": "stream",
     "text": [
      "[MoviePy] Done.\n",
      "[MoviePy] >>>> Video ready: test_videos_output/challenge2.mp4 \n",
      "\n",
      "CPU times: user 7.19 s, sys: 950 ms, total: 8.14 s\n",
      "Wall time: 11.3 s\n"
     ]
    }
   ],
   "source": [
    "# line_hists = {'left':[],'right':[]} # record some old slopes to smooth frames\n",
    "# global  line_hists\n",
    "\n",
    "challenge_output = 'test_videos_output/challenge.mp4'\n",
    "# clip3 = VideoFileClip('test_videos/challenge.mp4').subclip(0,3)\n",
    "clip3 = VideoFileClip('test_videos/challenge.mp4')\n",
    "\n",
    "# challenge_clip = clip3.fx(transform_clip, line_hists)\n",
    "challenge_clip = clip3.fl_image(process_image)\n",
    "%time challenge_clip.write_videofile(challenge_output, audio=False)"
   ]
  },
  {
   "cell_type": "code",
   "execution_count": 17,
   "metadata": {},
   "outputs": [
    {
     "data": {
      "text/html": [
       "\n",
       "<video width=\"960\" height=\"540\" controls>\n",
       "  <source src=\"test_videos_output/challenge2.mp4\">\n",
       "</video>\n"
      ],
      "text/plain": [
       "<IPython.core.display.HTML object>"
      ]
     },
     "execution_count": 17,
     "metadata": {},
     "output_type": "execute_result"
    }
   ],
   "source": [
    "HTML(\"\"\"\n",
    "<video width=\"960\" height=\"540\" controls>\n",
    "  <source src=\"{0}\">\n",
    "</video>\n",
    "\"\"\".format(challenge_output))"
   ]
  }
 ],
 "metadata": {
  "anaconda-cloud": {},
  "kernelspec": {
   "display_name": "Python 3",
   "language": "python",
   "name": "python3"
  },
  "language_info": {
   "codemirror_mode": {
    "name": "ipython",
    "version": 3
   },
   "file_extension": ".py",
   "mimetype": "text/x-python",
   "name": "python",
   "nbconvert_exporter": "python",
   "pygments_lexer": "ipython3",
   "version": "3.5.2"
  },
  "latex_envs": {
   "LaTeX_envs_menu_present": true,
   "autocomplete": true,
   "bibliofile": "biblio.bib",
   "cite_by": "apalike",
   "current_citInitial": 1,
   "eqLabelWithNumbers": true,
   "eqNumInitial": 1,
   "hotkeys": {
    "equation": "Ctrl-E",
    "itemize": "Ctrl-I"
   },
   "labels_anchors": false,
   "latex_user_defs": false,
   "report_style_numbering": false,
   "user_envs_cfg": false
  },
  "toc": {
   "nav_menu": {},
   "number_sections": true,
   "sideBar": false,
   "skip_h1_title": false,
   "toc_cell": false,
   "toc_position": {
    "height": "416px",
    "left": "1113px",
    "right": "1203px",
    "top": "0px",
    "width": "327px"
   },
   "toc_section_display": "block",
   "toc_window_display": true
  }
 },
 "nbformat": 4,
 "nbformat_minor": 1
}
